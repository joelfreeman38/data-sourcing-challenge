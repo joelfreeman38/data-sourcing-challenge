{
  "cells": [
    {
      "cell_type": "markdown",
      "metadata": {
        "colab_type": "text",
        "id": "view-in-github"
      },
      "source": [
        "<a href=\"https://colab.research.google.com/github/joelfreeman38/data-sourcing-challenge/blob/main/Copy_of_retrieve_data_solutions.ipynb\" target=\"_parent\"><img src=\"https://colab.research.google.com/assets/colab-badge.svg\" alt=\"Open In Colab\"/></a>"
      ]
    },
    {
      "cell_type": "markdown",
      "metadata": {
        "id": "WqEQYVgLQZ23"
      },
      "source": [
        "### Import Required Libraries and Set Up Environment Variables"
      ]
    },
    {
      "cell_type": "code",
      "execution_count": 1,
      "metadata": {
        "colab": {
          "base_uri": "https://localhost:8080/"
        },
        "id": "T72IeKrXUDUQ",
        "outputId": "eed817c5-76eb-483a-cbfc-4acd778277bf"
      },
      "outputs": [],
      "source": [
        "# Dependencies\n",
        "import requests\n",
        "import time\n",
        "from dotenv import load_dotenv\n",
        "import os\n",
        "import pandas as pd\n",
        "import json\n",
        "import os\n",
        "from datetime import datetime\n",
        "import pickle\n",
        "## Load the NASA_API_KEY from the env file\n",
        "load_dotenv()\n",
        "NASA_API_KEY = os.getenv(\"NASA_API_KEY\")"
      ]
    },
    {
      "cell_type": "markdown",
      "metadata": {
        "id": "GkYsXIY-QZ3A"
      },
      "source": [
        "### CME Data"
      ]
    },
    {
      "cell_type": "code",
      "execution_count": 2,
      "metadata": {
        "id": "NxauMU7kQZ3A"
      },
      "outputs": [],
      "source": [
        "# Set the base URL to NASA's DONKI API:\n",
        "base_url = \"https://api.nasa.gov/DONKI/\"\n",
        "\n",
        "# Set the specifier for CMEs:\n",
        "\n",
        "CME = \"CME\"\n",
        "\n",
        "# Search for CMEs published between a begin and end date\n",
        "start_date = \"2013-05-01\"\n",
        "end_date   = \"2024-05-01\"\n",
        "\n",
        "\n",
        "# Build URL for CME\n",
        "def build_cme_url(base_url, start_date, end_date, api_key):\n",
        "    return f\"{base_url}CME?startDate={start_date}&endDate={end_date}&api_key={api_key}\""
      ]
    },
    {
      "cell_type": "code",
      "execution_count": 3,
      "metadata": {
        "colab": {
          "base_uri": "https://localhost:8080/"
        },
        "id": "CZF5vMjPQZ3B",
        "outputId": "3c56bc85-3326-41fd-bdf7-e4ea7fceb332"
      },
      "outputs": [
        {
          "name": "stdout",
          "output_type": "stream",
          "text": [
            "CME data fetched successfully!\n"
          ]
        }
      ],
      "source": [
        "\n",
        "import requests  # Make sure to import the requests library\n",
        "\n",
        "# Define the cme_url variable with a valid URL\n",
        "cme_url = \"https://api.nasa.gov/DONKI/CME?startDate=yyyy-MM-dd&endDate=yyyy-MM-dd&api_key=DEMO_KEY\"  # Replace with the actual URL\n",
        "\n",
        "# Make a \"GET\" request for the CME URL and store it in a variable named cme_response\n",
        "cme_response = requests.get(cme_url)\n",
        "\n",
        "# Check if the request was successful\n",
        "if cme_response.status_code == 200:\n",
        "    print(\"CME data fetched successfully!\")\n",
        "else:\n",
        "    print(f\"Failed to fetch CME data. Status code: {cme_response.status_code}\")\n",
        "\n"
      ]
    },
    {
      "cell_type": "code",
      "execution_count": 4,
      "metadata": {
        "colab": {
          "base_uri": "https://localhost:8080/"
        },
        "id": "O8ojoleSQZ3E",
        "outputId": "1a7ef82d-effe-4160-9873-4acda551d564"
      },
      "outputs": [
        {
          "name": "stdout",
          "output_type": "stream",
          "text": [
            "CME JSON data successfully loaded!\n"
          ]
        }
      ],
      "source": [
        "# Convert the response variable to JSON and store it as a variable named cme_json\n",
        "try:\n",
        "    cme_json = cme_response.json()\n",
        "    print(\"CME JSON data successfully loaded!\")\n",
        "except ValueError as e:\n",
        "    print(f\"Error loading CME JSON data: {e}\")\n"
      ]
    },
    {
      "cell_type": "code",
      "execution_count": 5,
      "metadata": {
        "colab": {
          "base_uri": "https://localhost:8080/"
        },
        "id": "T-ALE8TPQZ3G",
        "outputId": "44ac7510-70a9-4ab3-9efc-4d81bc93e832",
        "scrolled": true
      },
      "outputs": [
        {
          "name": "stdout",
          "output_type": "stream",
          "text": [
            "{\n",
            "        \"activityID\": \"2024-11-23T11:12:00-CME-001\",\n",
            "        \"catalog\": \"M2M_CATALOG\",\n",
            "        \"startTime\": \"2024-11-23T11:12Z\",\n",
            "        \"instruments\": [\n",
            "                {\n",
            "                        \"displayName\": \"SOHO: LASCO/C2\"\n",
            "                },\n",
            "                {\n",
            "                        \"displayName\": \"SOHO: LASCO/C3\"\n",
            "                },\n",
            "                {\n",
            "                        \"displayName\": \"STEREO A: SECCHI/COR2\"\n",
            "                }\n",
            "        ],\n",
            "        \"sourceLocation\": \"S16E65\",\n",
            "        \"activeRegionNum\": 13906,\n",
            "        \"note\": \"CME visible to the east in SOHO LASCO C2/C3 and STEREO A COR2. The potential source may be an eruption on the disk from AR 3906 (S16E65) starting at 2024-11-23T09:37Z, based on field line movement seen in SDO AIA 171 and GOES SUVI 284.\",\n",
            "        \"submissionTime\": \"2024-11-23T17:11Z\",\n",
            "        \"versionId\": 1,\n",
            "        \"link\": \"https://webtools.ccmc.gsfc.nasa.gov/DONKI/view/CME/35267/-1\",\n",
            "        \"cmeAnalyses\": [\n",
            "                {\n",
            "                        \"isMostAccurate\": true,\n",
            "                        \"time21_5\": \"2024-11-23T17:06Z\",\n",
            "                        \"latitude\": -10.0,\n",
            "                        \"longitude\": -63.0,\n",
            "                        \"halfAngle\": 20.0,\n",
            "                        \"speed\": 623.0,\n",
            "                        \"type\": \"C\",\n",
            "                        \"featureCode\": \"LE\",\n",
            "                        \"imageType\": \"running difference\",\n",
            "                        \"measurementTechnique\": \"SWPC_CAT\",\n",
            "                        \"note\": \"Measurement based on the best fit between SOHO LASCO C2/C3 and STEREO A COR2 in SWPC_CAT as well as potential source location.\",\n",
            "                        \"levelOfData\": 0,\n",
            "                        \"tilt\": null,\n",
            "                        \"minorHalfWidth\": null,\n",
            "                        \"speedMeasuredAtHeight\": 12.6,\n",
            "                        \"submissionTime\": \"2024-11-23T17:12Z\",\n",
            "                        \"link\": \"https://webtools.ccmc.gsfc.nasa.gov/DONKI/view/CMEAnalysis/35268/-1\",\n",
            "                        \"enlilList\": [\n",
            "                                {\n",
            "                                        \"modelCompletionTime\": \"2024-11-23T17:21Z\",\n",
            "                                        \"au\": 2.0,\n",
            "                                        \"estimatedShockArrivalTime\": null,\n",
            "                                        \"estimatedDuration\": null,\n",
            "                                        \"rmin_re\": null,\n",
            "                                        \"kp_18\": null,\n",
            "                                        \"kp_90\": null,\n",
            "                                        \"kp_135\": null,\n",
            "                                        \"kp_180\": null,\n",
            "                                        \"isEarthGB\": false,\n",
            "                                        \"link\": \"https://webtools.ccmc.gsfc.nasa.gov/DONKI/view/WSA-ENLIL/35271/-1\",\n",
            "                                        \"impactList\": [\n",
            "                                                {\n",
            "                                                        \"isGlancingBlow\": false,\n",
            "                                                        \"location\": \"BepiColombo\",\n",
            "                                                        \"arrivalTime\": \"2024-11-24T08:36Z\"\n",
            "                                                },\n",
            "                                                {\n",
            "                                                        \"isGlancingBlow\": true,\n",
            "                                                        \"location\": \"Parker Solar Probe\",\n",
            "                                                        \"arrivalTime\": \"2024-11-25T20:00Z\"\n",
            "                                                }\n",
            "                                        ],\n",
            "                                        \"cmeIDs\": [\n",
            "                                                \"2024-11-23T11:12:00-CME-001\"\n",
            "                                        ]\n",
            "                                }\n",
            "                        ]\n",
            "                }\n",
            "        ],\n",
            "        \"linkedEvents\": null\n",
            "}\n"
          ]
        }
      ],
      "source": [
        "# Preview the first result in JSON format\n",
        "# Use json.dumps with argument indent=4 to format data\n",
        "import json\n",
        "\n",
        "if cme_json:  # Ensure cme_json is not empty or None\n",
        "    print(json.dumps(cme_json[4], indent=8))\n",
        "else:\n",
        "    print(\"No data found in CME JSON response.\")\n"
      ]
    },
    {
      "cell_type": "code",
      "execution_count": 6,
      "metadata": {
        "colab": {
          "base_uri": "https://localhost:8080/"
        },
        "id": "rOMqQfQdVeOG",
        "outputId": "37a02f36-7c83-4166-bd49-bfb075c30957"
      },
      "outputs": [
        {
          "name": "stdout",
          "output_type": "stream",
          "text": [
            "                    activityID          startTime linkedEvents\n",
            "0  2024-11-23T00:12:00-CME-001  2024-11-23T00:12Z         None\n",
            "1  2024-11-23T03:12:00-CME-001  2024-11-23T03:12Z         None\n",
            "2  2024-11-23T05:24:00-CME-001  2024-11-23T05:24Z         None\n",
            "3  2024-11-23T06:24:00-CME-001  2024-11-23T06:24Z         None\n",
            "4  2024-11-23T11:12:00-CME-001  2024-11-23T11:12Z         None\n"
          ]
        }
      ],
      "source": [
        "# Convert the JSON response to a Pandas DataFrame and keep only specified columns\n",
        "cme_df = pd.DataFrame(cme_json)[['activityID','startTime','linkedEvents']]\n",
        "\n",
        "# Display the first few rows to verify the result\n",
        "print(cme_df.head()) # Use print() to display the DataFrame"
      ]
    },
    {
      "cell_type": "code",
      "execution_count": 7,
      "metadata": {
        "colab": {
          "base_uri": "https://localhost:8080/"
        },
        "id": "TXJQmFZRUY-n",
        "outputId": "d65f480e-e8c9-4546-8b6d-a9673ba4b36d"
      },
      "outputs": [
        {
          "name": "stdout",
          "output_type": "stream",
          "text": [
            "                    activityID          startTime linkedEvents\n",
            "0  2024-11-23T00:12:00-CME-001  2024-11-23T00:12Z         None\n",
            "1  2024-11-23T03:12:00-CME-001  2024-11-23T03:12Z         None\n",
            "2  2024-11-23T05:24:00-CME-001  2024-11-23T05:24Z         None\n",
            "3  2024-11-23T06:24:00-CME-001  2024-11-23T06:24Z         None\n",
            "4  2024-11-23T11:12:00-CME-001  2024-11-23T11:12Z         None\n"
          ]
        }
      ],
      "source": [
        "# Convert the JSON response to a Pandas DataFrame and keep only specified columns\n",
        "import pandas as pd # Import the pandas library and alias it as 'pd'\n",
        "cme_df = pd.DataFrame(cme_json)[['activityID','startTime','linkedEvents']]\n",
        "\n",
        "# Display the first few rows to verify the result\n",
        "print(cme_df.head()) # Use print() correctly to display the DataFrame"
      ]
    },
    {
      "cell_type": "code",
      "execution_count": 8,
      "metadata": {
        "colab": {
          "base_uri": "https://localhost:8080/"
        },
        "id": "isSFaWNFUOgV",
        "outputId": "ecd041cc-37fa-401c-fa00-6faf63f9f145"
      },
      "outputs": [
        {
          "name": "stdout",
          "output_type": "stream",
          "text": [
            "                    activityID          startTime linkedEvents\n",
            "0  2024-11-23T00:12:00-CME-001  2024-11-23T00:12Z         None\n",
            "1  2024-11-23T03:12:00-CME-001  2024-11-23T03:12Z         None\n",
            "2  2024-11-23T05:24:00-CME-001  2024-11-23T05:24Z         None\n",
            "3  2024-11-23T06:24:00-CME-001  2024-11-23T06:24Z         None\n",
            "4  2024-11-23T11:12:00-CME-001  2024-11-23T11:12Z         None\n"
          ]
        }
      ],
      "source": [
        "# ipython-input-14-5f0b79a56a04\n",
        "# Convert the JSON response to a Pandas DataFrame and keep only specified columns\n",
        "import pandas as pd # Import the pandas library and alias it as 'pd'\n",
        "cme_df = pd.DataFrame(cme_json)[['activityID','startTime','linkedEvents']]\n",
        "\n",
        "# Display the first few rows to verify the result\n",
        "print(cme_df.head()) # Use print() correctly to display the DataFrame"
      ]
    },
    {
      "cell_type": "markdown",
      "metadata": {
        "id": "7psR0GZ4QZ3I"
      },
      "source": [
        "# Assistant\n",
        "The selected code performs the following steps:\n",
        "\n",
        "1. `cme_df = pd.DataFrame(cme_json)[['activityID', 'startTime', 'linkedEvents']]` - This line converts a JSON object (`cme_json`) into a Pandas DataFrame. It then selects only the specified columns: `'activityID'`, `'startTime'`, and `'linkedEvents'`. The resulting DataFrame, `cme_df`, will contain only these three columns from the original JSON data.\n",
        "\n",
        "2. `print(cme_df.head())` - This line prints the first few rows (default is 5) of the `cme_df` DataFrame to the console. This is useful for quickly verifying that the DataFrame has been created correctly and contains the expected data."
      ]
    },
    {
      "cell_type": "code",
      "execution_count": 9,
      "metadata": {
        "colab": {
          "base_uri": "https://localhost:8080/"
        },
        "id": "uJGkMYZjQZ3J",
        "outputId": "869320fb-0247-4029-c675-59f472557411"
      },
      "outputs": [
        {
          "name": "stdout",
          "output_type": "stream",
          "text": [
            "                     activityID          startTime  \\\n",
            "6   2024-11-23T19:24:00-CME-001  2024-11-23T19:24Z   \n",
            "11  2024-11-25T03:12:00-CME-001  2024-11-25T03:12Z   \n",
            "12  2024-11-25T04:00:00-CME-001  2024-11-25T04:00Z   \n",
            "16  2024-11-25T21:24:00-CME-001  2024-11-25T21:24Z   \n",
            "19  2024-11-27T02:48:00-CME-001  2024-11-27T02:48Z   \n",
            "\n",
            "                                         linkedEvents  \n",
            "6     [{'activityID': '2024-11-23T19:01:00-FLR-001'}]  \n",
            "11  [{'activityID': '2024-11-29T00:40:00-IPS-001'}...  \n",
            "12  [{'activityID': '2024-11-29T00:40:00-IPS-001'}...  \n",
            "16  [{'activityID': '2024-11-25T20:24:00-FLR-001'}...  \n",
            "19    [{'activityID': '2024-11-27T02:21:00-FLR-001'}]  \n"
          ]
        }
      ],
      "source": [
        "# Remove rows with missing 'linkedEvents' as these can't be assigned to GSTs\n",
        "cme_df = cme_df.dropna(subset=['linkedEvents'])\n",
        "\n",
        "# Display the updated DataFrame to verify the changes\n",
        "print(cme_df.head())\n"
      ]
    },
    {
      "cell_type": "code",
      "execution_count": 10,
      "metadata": {
        "colab": {
          "base_uri": "https://localhost:8080/"
        },
        "id": "nkGE8zPDQZ3K",
        "outputId": "ca4c902a-29ef-43c8-fe5c-04fecec6aff8"
      },
      "outputs": [
        {
          "name": "stdout",
          "output_type": "stream",
          "text": [
            "                    activityID          startTime  \\\n",
            "0  2024-11-23T19:24:00-CME-001  2024-11-23T19:24Z   \n",
            "1  2024-11-25T03:12:00-CME-001  2024-11-25T03:12Z   \n",
            "2  2024-11-25T03:12:00-CME-001  2024-11-25T03:12Z   \n",
            "3  2024-11-25T04:00:00-CME-001  2024-11-25T04:00Z   \n",
            "4  2024-11-25T04:00:00-CME-001  2024-11-25T04:00Z   \n",
            "\n",
            "                                     linkedEvent  \n",
            "0  {'activityID': '2024-11-23T19:01:00-FLR-001'}  \n",
            "1  {'activityID': '2024-11-29T00:40:00-IPS-001'}  \n",
            "2  {'activityID': '2024-11-29T02:15:00-IPS-001'}  \n",
            "3  {'activityID': '2024-11-29T00:40:00-IPS-001'}  \n",
            "4  {'activityID': '2024-11-29T02:15:00-IPS-001'}  \n"
          ]
        }
      ],
      "source": [
        "# Notice that the linkedEvents sometimes contains multiple events per row\n",
        "# Write a nested for loop that iterates first over each row in the cme DataFrame (using the index)\n",
        "# and then iterates over the values in 'linkedEvents'\n",
        "# and adds the elements individually to a list of dictionaries where each row is one element\n",
        "\n",
        "# Initialize an empty list to store the expanded rows\n",
        "expanded_rows = []\n",
        "\n",
        "# Iterate over each index in the cme DataFrame\n",
        "for i in cme_df.index:\n",
        "    # Extract the activityID and startTime for the current row\n",
        "    activity_id = cme_df.loc[i, 'activityID']\n",
        "    start_time = cme_df.loc[i, 'startTime']\n",
        "\n",
        "    # Get the list of dictionaries from the 'linkedEvents' column\n",
        "    linked_events = cme_df.loc[i, 'linkedEvents']\n",
        "\n",
        "    # Iterate over each dictionary in the list of linkedEvents\n",
        "    for event in linked_events:\n",
        "        # Append a new dictionary to the expanded_rows list\n",
        "        expanded_rows.append({\n",
        "            'activityID': activity_id,\n",
        "            'startTime': start_time,\n",
        "            'linkedEvent': event\n",
        "        })\n",
        "\n",
        "# Create a new DataFrame from the expanded rows\n",
        "expanded_cme_df = pd.DataFrame(expanded_rows)\n",
        "\n",
        "# Display the first few rows of the new DataFrame\n",
        "print(expanded_cme_df.head())\n",
        "\n"
      ]
    },
    {
      "cell_type": "code",
      "execution_count": 11,
      "metadata": {
        "colab": {
          "base_uri": "https://localhost:8080/"
        },
        "id": "5GmkOZpqQZ3L",
        "outputId": "c02011af-5752-4e15-ac8d-bdf2f260c453"
      },
      "outputs": [
        {
          "name": "stdout",
          "output_type": "stream",
          "text": [
            "Example extracted activityID: 2024-11-23T19:01:00-FLR-001\n"
          ]
        }
      ],
      "source": [
        "# Create a function called extract_activityID_from_dict that takes a dict as input such as in linkedEvents\n",
        "# and verify below that it works as expected using one row from linkedEvents as an example\n",
        "# Be sure to use a try and except block to handle errors\n",
        "\n",
        "        # Log the error or print it for debugging\n",
        "# Create a function to extract the 'activityID' from a dictionary in the 'linkedEvents' column\n",
        "def extract_activityID_from_dict(input_dict):\n",
        "    try:\n",
        "        # Attempt to return the 'activityID' value\n",
        "        return input_dict.get('activityID', None)\n",
        "    except (AttributeError, TypeError) as e:\n",
        "        # Log or print the error for debugging\n",
        "        print(f\"Error extracting activityID: {e}\")\n",
        "        return None\n",
        "\n",
        "# Test the function using one row from linkedEvents as an example\n",
        "example_linked_event = expanded_cme_df.loc[0, 'linkedEvent']\n",
        "print(\"Example extracted activityID:\", extract_activityID_from_dict(example_linked_event))\n",
        "\n",
        "\n",
        "\n"
      ]
    },
    {
      "cell_type": "code",
      "execution_count": 12,
      "metadata": {
        "colab": {
          "base_uri": "https://localhost:8080/"
        },
        "id": "uGizWBv3QZ3L",
        "outputId": "8a47863e-1a21-4392-dfc3-99813a513602"
      },
      "outputs": [
        {
          "name": "stdout",
          "output_type": "stream",
          "text": [
            "                    activityID          startTime  \\\n",
            "0  2024-11-23T19:24:00-CME-001  2024-11-23T19:24Z   \n",
            "1  2024-11-25T03:12:00-CME-001  2024-11-25T03:12Z   \n",
            "2  2024-11-25T03:12:00-CME-001  2024-11-25T03:12Z   \n",
            "3  2024-11-25T04:00:00-CME-001  2024-11-25T04:00Z   \n",
            "4  2024-11-25T04:00:00-CME-001  2024-11-25T04:00Z   \n",
            "\n",
            "                                     linkedEvent               GST_ActivityID  \n",
            "0  {'activityID': '2024-11-23T19:01:00-FLR-001'}  2024-11-23T19:01:00-FLR-001  \n",
            "1  {'activityID': '2024-11-29T00:40:00-IPS-001'}  2024-11-29T00:40:00-IPS-001  \n",
            "2  {'activityID': '2024-11-29T02:15:00-IPS-001'}  2024-11-29T02:15:00-IPS-001  \n",
            "3  {'activityID': '2024-11-29T00:40:00-IPS-001'}  2024-11-29T00:40:00-IPS-001  \n",
            "4  {'activityID': '2024-11-29T02:15:00-IPS-001'}  2024-11-29T02:15:00-IPS-001  \n"
          ]
        }
      ],
      "source": [
        "# Apply this function to each row in the 'linkedEvents' column (you can use apply() and a lambda function)\n",
        "# and create a new column called 'GST_ActivityID' using loc indexer:\n",
        "# Apply the function to extract 'activityID' from the 'linkedEvent' column\n",
        "# Create a new column called 'GST_ActivityID'\n",
        "expanded_cme_df['GST_ActivityID'] = expanded_cme_df['linkedEvent'].apply(lambda x: extract_activityID_from_dict(x))\n",
        "\n",
        "# Display the first few rows of the updated DataFrame\n",
        "print(expanded_cme_df.head())\n"
      ]
    },
    {
      "cell_type": "code",
      "execution_count": 13,
      "metadata": {
        "colab": {
          "base_uri": "https://localhost:8080/"
        },
        "id": "gTjv5E1cQZ3M",
        "outputId": "1f13e982-f1a9-4d95-e08a-fea96dd7c3d1"
      },
      "outputs": [
        {
          "name": "stdout",
          "output_type": "stream",
          "text": [
            "                    activityID          startTime  \\\n",
            "0  2024-11-23T19:24:00-CME-001  2024-11-23T19:24Z   \n",
            "1  2024-11-25T03:12:00-CME-001  2024-11-25T03:12Z   \n",
            "2  2024-11-25T03:12:00-CME-001  2024-11-25T03:12Z   \n",
            "3  2024-11-25T04:00:00-CME-001  2024-11-25T04:00Z   \n",
            "4  2024-11-25T04:00:00-CME-001  2024-11-25T04:00Z   \n",
            "\n",
            "                                     linkedEvent               GST_ActivityID  \n",
            "0  {'activityID': '2024-11-23T19:01:00-FLR-001'}  2024-11-23T19:01:00-FLR-001  \n",
            "1  {'activityID': '2024-11-29T00:40:00-IPS-001'}  2024-11-29T00:40:00-IPS-001  \n",
            "2  {'activityID': '2024-11-29T02:15:00-IPS-001'}  2024-11-29T02:15:00-IPS-001  \n",
            "3  {'activityID': '2024-11-29T00:40:00-IPS-001'}  2024-11-29T00:40:00-IPS-001  \n",
            "4  {'activityID': '2024-11-29T02:15:00-IPS-001'}  2024-11-29T02:15:00-IPS-001  \n"
          ]
        }
      ],
      "source": [
        "# Remove rows with missing GST_ActivityID, since we can't assign them to GSTs:\n",
        "# Remove rows with missing 'GST_ActivityID'\n",
        "expanded_cme_df = expanded_cme_df.dropna(subset=['GST_ActivityID']).reset_index(drop=True)\n",
        "\n",
        "# Display the first few rows of the cleaned DataFrame\n",
        "print(expanded_cme_df.head())\n"
      ]
    },
    {
      "cell_type": "code",
      "execution_count": 14,
      "metadata": {
        "colab": {
          "base_uri": "https://localhost:8080/"
        },
        "id": "ASQyhwnzQZ3M",
        "outputId": "98347317-8f5d-425a-c066-0efa146bf73a"
      },
      "outputs": [
        {
          "name": "stdout",
          "output_type": "stream",
          "text": [
            "activityID        object\n",
            "startTime         object\n",
            "linkedEvent       object\n",
            "GST_ActivityID    object\n",
            "dtype: object\n"
          ]
        }
      ],
      "source": [
        "\n",
        "# Print out the data types of each column in the DataFrame\n",
        "print(expanded_cme_df.dtypes)\n",
        "\n"
      ]
    },
    {
      "cell_type": "code",
      "execution_count": 15,
      "metadata": {
        "id": "KMt_CUc2d_Y4"
      },
      "outputs": [],
      "source": [
        "# Convert the 'GST_ActivityID' column to string format\n",
        "expanded_cme_df['GST_ActivityID'] = expanded_cme_df['GST_ActivityID'].astype(str)\n",
        "\n",
        "# Rename 'startTime' to 'startTime_CME' and 'activityID' to 'cmeID'\n",
        "expanded_cme_df.rename(columns={'startTime': 'startTime_CME', 'activityID': 'cmeID'}, inplace=True)\n",
        "\n",
        "# Convert 'startTime_CME' to datetime format # Changed from 'startTime' to 'startTime_CME'\n",
        "expanded_cme_df['startTime_CME'] = pd.to_datetime(expanded_cme_df['startTime_CME'])\n",
        "\n",
        "# ... (Rest of the code) ..."
      ]
    },
    {
      "cell_type": "code",
      "execution_count": 16,
      "metadata": {
        "colab": {
          "base_uri": "https://localhost:8080/"
        },
        "id": "E9FAfn7sV7_X",
        "outputId": "4bd6e6c6-1998-444c-da08-0a63253b1eb6"
      },
      "outputs": [
        {
          "name": "stdout",
          "output_type": "stream",
          "text": [
            "Columns in the CME DataFrame: Index(['activityID', 'startTime', 'linkedEvents'], dtype='object')\n",
            "The 'linkedEvents' column is missing. Skipping related processing.\n",
            "Columns in CME DataFrame: Index(['activityID', 'startTime', 'linkedEvents'], dtype='object')\n",
            "Processing 'startTime' column...\n",
            "                         cmeID             startTime_CME  \\\n",
            "0  2024-11-23T19:24:00-CME-001 2024-11-23 19:24:00+00:00   \n",
            "1  2024-11-25T03:12:00-CME-001 2024-11-25 03:12:00+00:00   \n",
            "2  2024-11-25T03:12:00-CME-001 2024-11-25 03:12:00+00:00   \n",
            "3  2024-11-25T04:00:00-CME-001 2024-11-25 04:00:00+00:00   \n",
            "4  2024-11-25T04:00:00-CME-001 2024-11-25 04:00:00+00:00   \n",
            "\n",
            "                                     linkedEvent               GST_ActivityID  \n",
            "0  {'activityID': '2024-11-23T19:01:00-FLR-001'}  2024-11-23T19:01:00-FLR-001  \n",
            "1  {'activityID': '2024-11-29T00:40:00-IPS-001'}  2024-11-29T00:40:00-IPS-001  \n",
            "2  {'activityID': '2024-11-29T02:15:00-IPS-001'}  2024-11-29T02:15:00-IPS-001  \n",
            "3  {'activityID': '2024-11-29T00:40:00-IPS-001'}  2024-11-29T00:40:00-IPS-001  \n",
            "4  {'activityID': '2024-11-29T02:15:00-IPS-001'}  2024-11-29T02:15:00-IPS-001  \n",
            "<class 'pandas.core.frame.DataFrame'>\n",
            "RangeIndex: 35 entries, 0 to 34\n",
            "Data columns (total 4 columns):\n",
            " #   Column          Non-Null Count  Dtype              \n",
            "---  ------          --------------  -----              \n",
            " 0   cmeID           35 non-null     object             \n",
            " 1   startTime_CME   35 non-null     datetime64[ns, UTC]\n",
            " 2   linkedEvent     35 non-null     object             \n",
            " 3   GST_ActivityID  35 non-null     object             \n",
            "dtypes: datetime64[ns, UTC](1), object(3)\n",
            "memory usage: 1.2+ KB\n",
            "None\n"
          ]
        }
      ],
      "source": [
        "# Verify the columns in the DataFrame\n",
        "print(\"Columns in the CME DataFrame:\", cme_df.columns)\n",
        "\n",
        "# Check if 'linkedEvents' is present\n",
        "if 'linkedEvents' in expanded_cme_df.columns:  # Check in expanded_cme_df\n",
        "    # Process linkedEvents if the column exists\n",
        "    # ... (Your existing code to process linkedEvents) ...\n",
        "\n",
        "    # Drop the 'linkedEvents' column\n",
        "    expanded_cme_df.drop(columns=['linkedEvents'], inplace=True)\n",
        "else:\n",
        "    print(\"The 'linkedEvents' column is missing. Skipping related processing.\")\n",
        "\n",
        "# Inspect columns\n",
        "print(\"Columns in CME DataFrame:\", cme_df.columns)\n",
        "\n",
        "# Check if 'startTime' exists\n",
        "if 'startTime' in cme_df.columns:\n",
        "    # Proceed with processing\n",
        "    print(\"Processing 'startTime' column...\")\n",
        "    # Example: Convert to datetime\n",
        "    cme_df['startTime'] = pd.to_datetime(cme_df['startTime'])\n",
        "else:\n",
        "    # Handle missing 'startTime'\n",
        "    print(\"The 'startTime' column is missing. Skipping related processing.\")\n",
        "\n",
        "\n",
        "# Verify that all steps were executed correctly\n",
        "print(expanded_cme_df.head())\n",
        "print(expanded_cme_df.info())"
      ]
    },
    {
      "cell_type": "code",
      "execution_count": 17,
      "metadata": {
        "colab": {
          "base_uri": "https://localhost:8080/"
        },
        "id": "4dVolESLQZ3P",
        "outputId": "8f523bb6-609d-4135-a0fc-c43bcbf312e6"
      },
      "outputs": [
        {
          "name": "stdout",
          "output_type": "stream",
          "text": [
            "Empty DataFrame\n",
            "Columns: [cmeID, startTime_CME, linkedEvent, GST_ActivityID]\n",
            "Index: []\n",
            "<class 'pandas.core.frame.DataFrame'>\n",
            "Index: 0 entries\n",
            "Data columns (total 4 columns):\n",
            " #   Column          Non-Null Count  Dtype              \n",
            "---  ------          --------------  -----              \n",
            " 0   cmeID           0 non-null      object             \n",
            " 1   startTime_CME   0 non-null      datetime64[ns, UTC]\n",
            " 2   linkedEvent     0 non-null      object             \n",
            " 3   GST_ActivityID  0 non-null      object             \n",
            "dtypes: datetime64[ns, UTC](1), object(3)\n",
            "memory usage: 0.0+ bytes\n",
            "None\n"
          ]
        }
      ],
      "source": [
        "# We are only interested in CMEs related to GSTs so keep only rows where the GST_ActivityID column contains 'GST'\n",
        "# use the method 'contains()' from the str library.\n",
        "# Filter the DataFrame to keep only rows where the 'GST_ActivityID' column contains 'GST'\n",
        "cme_related_to_gst_df = expanded_cme_df[expanded_cme_df['GST_ActivityID'].str.contains('GST', na=False)]\n",
        "\n",
        "# Display the first few rows of the filtered DataFrame\n",
        "print(cme_related_to_gst_df.head())\n",
        "\n",
        "# Verify the number of rows and columns in the filtered DataFrame\n",
        "print(cme_related_to_gst_df.info())\n",
        "\n"
      ]
    },
    {
      "cell_type": "markdown",
      "metadata": {
        "id": "EMGhW6z4QZ3P"
      },
      "source": [
        "### GST Data"
      ]
    },
    {
      "cell_type": "code",
      "execution_count": 18,
      "metadata": {
        "id": "BYrhVroRQZ3P"
      },
      "outputs": [],
      "source": [
        "# Set the base URL to NASA's DONKI API:\n",
        "base_url = \"https://api.nasa.gov/DONKI/\"\n",
        "\n",
        "# Set the specifier for Geomagnetic Storms (GST):\n",
        "GST = \"GST\"\n",
        "\n",
        "# Search for GSTs between a begin and end date\n",
        "startDate = \"2013-05-01\"\n",
        "endDate   = \"2024-05-01\"\n",
        "\n",
        "# Set the base URL to NASA's DONKI API:\n",
        "base_url = \"https://api.nasa.gov/DONKI/\"\n",
        "\n",
        "# Set the specifier for Geomagnetic Storms (GST):\n",
        "GST = \"GST\"\n",
        "\n",
        "# Search for GSTs between a begin and end date\n",
        "startDate = \"2013-05-01\"\n",
        "endDate   = \"2024-05-01\"\n",
        "\n",
        "\n",
        "# Build URL for GST\n",
        "gst_url = f\"{base_url}GST?startDate={startDate}&endDate={endDate}&api_key=sNjM1Gxthf3AVfl2cSSBw0V0iqoBcM6McEDT6gmg\" # Use NASA_API_KEY instead of api_key"
      ]
    },
    {
      "cell_type": "code",
      "execution_count": 19,
      "metadata": {
        "id": "2weIl3VWQZ3Q"
      },
      "outputs": [],
      "source": [
        "# Make a \"GET\" request for the GST URL and store it in a variable named gst_response\n",
        "gst_response = requests.get(gst_url)"
      ]
    },
    {
      "cell_type": "code",
      "execution_count": 20,
      "metadata": {
        "colab": {
          "base_uri": "https://localhost:8080/"
        },
        "id": "szSk3C6lQZ3Q",
        "outputId": "743d030e-d9a4-4252-de17-1ddf827a4f66"
      },
      "outputs": [
        {
          "name": "stdout",
          "output_type": "stream",
          "text": [
            "{\n",
            "    \"gstID\": \"2013-06-01T01:00:00-GST-001\",\n",
            "    \"startTime\": \"2013-06-01T01:00Z\",\n",
            "    \"allKpIndex\": [\n",
            "        {\n",
            "            \"observedTime\": \"2013-06-01T01:00Z\",\n",
            "            \"kpIndex\": 6.0,\n",
            "            \"source\": \"NOAA\"\n",
            "        }\n",
            "    ],\n",
            "    \"link\": \"https://webtools.ccmc.gsfc.nasa.gov/DONKI/view/GST/326/-1\",\n",
            "    \"linkedEvents\": [\n",
            "        {\n",
            "            \"activityID\": \"2013-05-31T15:45:00-HSS-001\"\n",
            "        }\n",
            "    ],\n",
            "    \"submissionTime\": \"2013-07-15T19:26Z\",\n",
            "    \"versionId\": 1\n",
            "}\n"
          ]
        }
      ],
      "source": [
        "# Convert the response variable to json and store it as a variable named gst_json\n",
        "gst_json = gst_response.json()\n",
        "# Preview the first result in JSON format\n",
        "# Use json.dumps with argument indent=4 to format data\n",
        "print(json.dumps(gst_json[0], indent=4))"
      ]
    },
    {
      "cell_type": "code",
      "execution_count": 21,
      "metadata": {
        "colab": {
          "base_uri": "https://localhost:8080/",
          "height": 293
        },
        "id": "UHejVqLIie2Y",
        "outputId": "5c387833-7c68-4b38-ddf0-2756bae0109c"
      },
      "outputs": [
        {
          "data": {
            "text/html": [
              "<div>\n",
              "<style scoped>\n",
              "    .dataframe tbody tr th:only-of-type {\n",
              "        vertical-align: middle;\n",
              "    }\n",
              "\n",
              "    .dataframe tbody tr th {\n",
              "        vertical-align: top;\n",
              "    }\n",
              "\n",
              "    .dataframe thead th {\n",
              "        text-align: right;\n",
              "    }\n",
              "</style>\n",
              "<table border=\"1\" class=\"dataframe\">\n",
              "  <thead>\n",
              "    <tr style=\"text-align: right;\">\n",
              "      <th></th>\n",
              "      <th>gstID</th>\n",
              "      <th>startTime</th>\n",
              "      <th>linkedEvents</th>\n",
              "    </tr>\n",
              "  </thead>\n",
              "  <tbody>\n",
              "    <tr>\n",
              "      <th>0</th>\n",
              "      <td>2013-06-01T01:00:00-GST-001</td>\n",
              "      <td>2013-06-01T01:00Z</td>\n",
              "      <td>[{'activityID': '2013-05-31T15:45:00-HSS-001'}]</td>\n",
              "    </tr>\n",
              "    <tr>\n",
              "      <th>1</th>\n",
              "      <td>2013-06-07T03:00:00-GST-001</td>\n",
              "      <td>2013-06-07T03:00Z</td>\n",
              "      <td>[{'activityID': '2013-06-02T20:24:00-CME-001'}]</td>\n",
              "    </tr>\n",
              "    <tr>\n",
              "      <th>2</th>\n",
              "      <td>2013-06-29T03:00:00-GST-001</td>\n",
              "      <td>2013-06-29T03:00Z</td>\n",
              "      <td>None</td>\n",
              "    </tr>\n",
              "    <tr>\n",
              "      <th>3</th>\n",
              "      <td>2013-10-02T03:00:00-GST-001</td>\n",
              "      <td>2013-10-02T03:00Z</td>\n",
              "      <td>[{'activityID': '2013-09-29T22:40:00-CME-001'}...</td>\n",
              "    </tr>\n",
              "    <tr>\n",
              "      <th>4</th>\n",
              "      <td>2013-12-08T00:00:00-GST-001</td>\n",
              "      <td>2013-12-08T00:00Z</td>\n",
              "      <td>[{'activityID': '2013-12-04T23:12:00-CME-001'}...</td>\n",
              "    </tr>\n",
              "  </tbody>\n",
              "</table>\n",
              "</div>"
            ],
            "text/plain": [
              "                         gstID          startTime  \\\n",
              "0  2013-06-01T01:00:00-GST-001  2013-06-01T01:00Z   \n",
              "1  2013-06-07T03:00:00-GST-001  2013-06-07T03:00Z   \n",
              "2  2013-06-29T03:00:00-GST-001  2013-06-29T03:00Z   \n",
              "3  2013-10-02T03:00:00-GST-001  2013-10-02T03:00Z   \n",
              "4  2013-12-08T00:00:00-GST-001  2013-12-08T00:00Z   \n",
              "\n",
              "                                        linkedEvents  \n",
              "0    [{'activityID': '2013-05-31T15:45:00-HSS-001'}]  \n",
              "1    [{'activityID': '2013-06-02T20:24:00-CME-001'}]  \n",
              "2                                               None  \n",
              "3  [{'activityID': '2013-09-29T22:40:00-CME-001'}...  \n",
              "4  [{'activityID': '2013-12-04T23:12:00-CME-001'}...  "
            ]
          },
          "execution_count": 21,
          "metadata": {},
          "output_type": "execute_result"
        }
      ],
      "source": [
        "# Convert gst_json to a Pandas DataFrame\n",
        "gst_df = pd.DataFrame(gst_json)\n",
        "\n",
        "# Keep only the columns: gstID, startTime, linkedEvents\n",
        "gst_df = gst_df[['gstID', 'startTime', 'linkedEvents']]  # Changed 'activityID' to 'gstID'\n",
        "\n",
        "# Display the first few rows of the filtered DataFrame\n",
        "gst_df.head()"
      ]
    },
    {
      "cell_type": "code",
      "execution_count": 22,
      "metadata": {
        "colab": {
          "base_uri": "https://localhost:8080/",
          "height": 293
        },
        "id": "6ftb9ORyQZ3R",
        "outputId": "7174f4c8-182f-43be-e1be-46416132690f"
      },
      "outputs": [
        {
          "data": {
            "text/html": [
              "<div>\n",
              "<style scoped>\n",
              "    .dataframe tbody tr th:only-of-type {\n",
              "        vertical-align: middle;\n",
              "    }\n",
              "\n",
              "    .dataframe tbody tr th {\n",
              "        vertical-align: top;\n",
              "    }\n",
              "\n",
              "    .dataframe thead th {\n",
              "        text-align: right;\n",
              "    }\n",
              "</style>\n",
              "<table border=\"1\" class=\"dataframe\">\n",
              "  <thead>\n",
              "    <tr style=\"text-align: right;\">\n",
              "      <th></th>\n",
              "      <th>gstID</th>\n",
              "      <th>startTime</th>\n",
              "      <th>linkedEvents</th>\n",
              "    </tr>\n",
              "  </thead>\n",
              "  <tbody>\n",
              "    <tr>\n",
              "      <th>0</th>\n",
              "      <td>2013-06-01T01:00:00-GST-001</td>\n",
              "      <td>2013-06-01T01:00Z</td>\n",
              "      <td>[{'activityID': '2013-05-31T15:45:00-HSS-001'}]</td>\n",
              "    </tr>\n",
              "    <tr>\n",
              "      <th>1</th>\n",
              "      <td>2013-06-07T03:00:00-GST-001</td>\n",
              "      <td>2013-06-07T03:00Z</td>\n",
              "      <td>[{'activityID': '2013-06-02T20:24:00-CME-001'}]</td>\n",
              "    </tr>\n",
              "    <tr>\n",
              "      <th>3</th>\n",
              "      <td>2013-10-02T03:00:00-GST-001</td>\n",
              "      <td>2013-10-02T03:00Z</td>\n",
              "      <td>[{'activityID': '2013-09-29T22:40:00-CME-001'}...</td>\n",
              "    </tr>\n",
              "    <tr>\n",
              "      <th>4</th>\n",
              "      <td>2013-12-08T00:00:00-GST-001</td>\n",
              "      <td>2013-12-08T00:00Z</td>\n",
              "      <td>[{'activityID': '2013-12-04T23:12:00-CME-001'}...</td>\n",
              "    </tr>\n",
              "    <tr>\n",
              "      <th>5</th>\n",
              "      <td>2014-02-19T03:00:00-GST-001</td>\n",
              "      <td>2014-02-19T03:00Z</td>\n",
              "      <td>[{'activityID': '2014-02-16T14:15:00-CME-001'}...</td>\n",
              "    </tr>\n",
              "  </tbody>\n",
              "</table>\n",
              "</div>"
            ],
            "text/plain": [
              "                         gstID          startTime  \\\n",
              "0  2013-06-01T01:00:00-GST-001  2013-06-01T01:00Z   \n",
              "1  2013-06-07T03:00:00-GST-001  2013-06-07T03:00Z   \n",
              "3  2013-10-02T03:00:00-GST-001  2013-10-02T03:00Z   \n",
              "4  2013-12-08T00:00:00-GST-001  2013-12-08T00:00Z   \n",
              "5  2014-02-19T03:00:00-GST-001  2014-02-19T03:00Z   \n",
              "\n",
              "                                        linkedEvents  \n",
              "0    [{'activityID': '2013-05-31T15:45:00-HSS-001'}]  \n",
              "1    [{'activityID': '2013-06-02T20:24:00-CME-001'}]  \n",
              "3  [{'activityID': '2013-09-29T22:40:00-CME-001'}...  \n",
              "4  [{'activityID': '2013-12-04T23:12:00-CME-001'}...  \n",
              "5  [{'activityID': '2014-02-16T14:15:00-CME-001'}...  "
            ]
          },
          "execution_count": 22,
          "metadata": {},
          "output_type": "execute_result"
        }
      ],
      "source": [
        "# Notice that the linkedEvents column allows us to identify the corresponding CME\n",
        "# Remove rows with missing 'linkedEvents' since we won't be able to assign these to CME\n",
        "# Remove rows with missing 'linkedEvents' since we can't assign these to CME\n",
        "gst_df = gst_df.dropna(subset=['linkedEvents'])\n",
        "\n",
        "# Display the first few rows of the updated DataFrame\n",
        "gst_df.head()\n"
      ]
    },
    {
      "cell_type": "code",
      "execution_count": 23,
      "metadata": {
        "colab": {
          "base_uri": "https://localhost:8080/",
          "height": 293
        },
        "id": "MosZ0hWnQZ3R",
        "outputId": "e089bc81-8c6a-4cf6-d0b1-255474a1a2bf"
      },
      "outputs": [
        {
          "data": {
            "text/html": [
              "<div>\n",
              "<style scoped>\n",
              "    .dataframe tbody tr th:only-of-type {\n",
              "        vertical-align: middle;\n",
              "    }\n",
              "\n",
              "    .dataframe tbody tr th {\n",
              "        vertical-align: top;\n",
              "    }\n",
              "\n",
              "    .dataframe thead th {\n",
              "        text-align: right;\n",
              "    }\n",
              "</style>\n",
              "<table border=\"1\" class=\"dataframe\">\n",
              "  <thead>\n",
              "    <tr style=\"text-align: right;\">\n",
              "      <th></th>\n",
              "      <th>gstID</th>\n",
              "      <th>startTime</th>\n",
              "      <th>linkedEvents</th>\n",
              "    </tr>\n",
              "  </thead>\n",
              "  <tbody>\n",
              "    <tr>\n",
              "      <th>0</th>\n",
              "      <td>2013-06-01T01:00:00-GST-001</td>\n",
              "      <td>2013-06-01T01:00Z</td>\n",
              "      <td>{'activityID': '2013-05-31T15:45:00-HSS-001'}</td>\n",
              "    </tr>\n",
              "    <tr>\n",
              "      <th>1</th>\n",
              "      <td>2013-06-07T03:00:00-GST-001</td>\n",
              "      <td>2013-06-07T03:00Z</td>\n",
              "      <td>{'activityID': '2013-06-02T20:24:00-CME-001'}</td>\n",
              "    </tr>\n",
              "    <tr>\n",
              "      <th>2</th>\n",
              "      <td>2013-10-02T03:00:00-GST-001</td>\n",
              "      <td>2013-10-02T03:00Z</td>\n",
              "      <td>{'activityID': '2013-09-29T22:40:00-CME-001'}</td>\n",
              "    </tr>\n",
              "    <tr>\n",
              "      <th>3</th>\n",
              "      <td>2013-10-02T03:00:00-GST-001</td>\n",
              "      <td>2013-10-02T03:00Z</td>\n",
              "      <td>{'activityID': '2013-10-02T01:54:00-IPS-001'}</td>\n",
              "    </tr>\n",
              "    <tr>\n",
              "      <th>4</th>\n",
              "      <td>2013-10-02T03:00:00-GST-001</td>\n",
              "      <td>2013-10-02T03:00Z</td>\n",
              "      <td>{'activityID': '2013-10-02T02:47:00-MPC-001'}</td>\n",
              "    </tr>\n",
              "  </tbody>\n",
              "</table>\n",
              "</div>"
            ],
            "text/plain": [
              "                         gstID          startTime  \\\n",
              "0  2013-06-01T01:00:00-GST-001  2013-06-01T01:00Z   \n",
              "1  2013-06-07T03:00:00-GST-001  2013-06-07T03:00Z   \n",
              "2  2013-10-02T03:00:00-GST-001  2013-10-02T03:00Z   \n",
              "3  2013-10-02T03:00:00-GST-001  2013-10-02T03:00Z   \n",
              "4  2013-10-02T03:00:00-GST-001  2013-10-02T03:00Z   \n",
              "\n",
              "                                    linkedEvents  \n",
              "0  {'activityID': '2013-05-31T15:45:00-HSS-001'}  \n",
              "1  {'activityID': '2013-06-02T20:24:00-CME-001'}  \n",
              "2  {'activityID': '2013-09-29T22:40:00-CME-001'}  \n",
              "3  {'activityID': '2013-10-02T01:54:00-IPS-001'}  \n",
              "4  {'activityID': '2013-10-02T02:47:00-MPC-001'}  "
            ]
          },
          "execution_count": 23,
          "metadata": {},
          "output_type": "execute_result"
        }
      ],
      "source": [
        "# Notice that the linkedEvents sometimes contains multiple events per row\n",
        "# Use the explode method to ensure that each row is one element. Ensure to reset the index and drop missing values.\n",
        "# Use the explode method to split multiple events into separate rows\n",
        "gst_df['linkedEvents'] = gst_df['linkedEvents'].apply(lambda x: x if isinstance(x, list) else [x])\n",
        "gst_df = gst_df.explode('linkedEvents').reset_index(drop=True)\n",
        "\n",
        "# Drop any remaining missing values\n",
        "gst_df = gst_df.dropna(subset=['linkedEvents'])\n",
        "\n",
        "# Display the first few rows of the updated DataFrame\n",
        "gst_df.head()\n",
        "\n"
      ]
    },
    {
      "cell_type": "code",
      "execution_count": 24,
      "metadata": {
        "colab": {
          "base_uri": "https://localhost:8080/",
          "height": 380
        },
        "id": "wA4fJfq9QZ3S",
        "outputId": "1ca09ba6-cd10-492e-b02f-6b047b4e3636"
      },
      "outputs": [
        {
          "data": {
            "text/html": [
              "<div>\n",
              "<style scoped>\n",
              "    .dataframe tbody tr th:only-of-type {\n",
              "        vertical-align: middle;\n",
              "    }\n",
              "\n",
              "    .dataframe tbody tr th {\n",
              "        vertical-align: top;\n",
              "    }\n",
              "\n",
              "    .dataframe thead th {\n",
              "        text-align: right;\n",
              "    }\n",
              "</style>\n",
              "<table border=\"1\" class=\"dataframe\">\n",
              "  <thead>\n",
              "    <tr style=\"text-align: right;\">\n",
              "      <th></th>\n",
              "      <th>gstID</th>\n",
              "      <th>startTime</th>\n",
              "      <th>linkedEvents</th>\n",
              "      <th>CME_ActivityID</th>\n",
              "    </tr>\n",
              "  </thead>\n",
              "  <tbody>\n",
              "    <tr>\n",
              "      <th>0</th>\n",
              "      <td>2013-06-01T01:00:00-GST-001</td>\n",
              "      <td>2013-06-01T01:00Z</td>\n",
              "      <td>{'activityID': '2013-05-31T15:45:00-HSS-001'}</td>\n",
              "      <td>2013-05-31T15:45:00-HSS-001</td>\n",
              "    </tr>\n",
              "    <tr>\n",
              "      <th>1</th>\n",
              "      <td>2013-06-07T03:00:00-GST-001</td>\n",
              "      <td>2013-06-07T03:00Z</td>\n",
              "      <td>{'activityID': '2013-06-02T20:24:00-CME-001'}</td>\n",
              "      <td>2013-06-02T20:24:00-CME-001</td>\n",
              "    </tr>\n",
              "    <tr>\n",
              "      <th>2</th>\n",
              "      <td>2013-10-02T03:00:00-GST-001</td>\n",
              "      <td>2013-10-02T03:00Z</td>\n",
              "      <td>{'activityID': '2013-09-29T22:40:00-CME-001'}</td>\n",
              "      <td>2013-09-29T22:40:00-CME-001</td>\n",
              "    </tr>\n",
              "    <tr>\n",
              "      <th>3</th>\n",
              "      <td>2013-10-02T03:00:00-GST-001</td>\n",
              "      <td>2013-10-02T03:00Z</td>\n",
              "      <td>{'activityID': '2013-10-02T01:54:00-IPS-001'}</td>\n",
              "      <td>2013-10-02T01:54:00-IPS-001</td>\n",
              "    </tr>\n",
              "    <tr>\n",
              "      <th>4</th>\n",
              "      <td>2013-10-02T03:00:00-GST-001</td>\n",
              "      <td>2013-10-02T03:00Z</td>\n",
              "      <td>{'activityID': '2013-10-02T02:47:00-MPC-001'}</td>\n",
              "      <td>2013-10-02T02:47:00-MPC-001</td>\n",
              "    </tr>\n",
              "  </tbody>\n",
              "</table>\n",
              "</div>"
            ],
            "text/plain": [
              "                         gstID          startTime  \\\n",
              "0  2013-06-01T01:00:00-GST-001  2013-06-01T01:00Z   \n",
              "1  2013-06-07T03:00:00-GST-001  2013-06-07T03:00Z   \n",
              "2  2013-10-02T03:00:00-GST-001  2013-10-02T03:00Z   \n",
              "3  2013-10-02T03:00:00-GST-001  2013-10-02T03:00Z   \n",
              "4  2013-10-02T03:00:00-GST-001  2013-10-02T03:00Z   \n",
              "\n",
              "                                    linkedEvents               CME_ActivityID  \n",
              "0  {'activityID': '2013-05-31T15:45:00-HSS-001'}  2013-05-31T15:45:00-HSS-001  \n",
              "1  {'activityID': '2013-06-02T20:24:00-CME-001'}  2013-06-02T20:24:00-CME-001  \n",
              "2  {'activityID': '2013-09-29T22:40:00-CME-001'}  2013-09-29T22:40:00-CME-001  \n",
              "3  {'activityID': '2013-10-02T01:54:00-IPS-001'}  2013-10-02T01:54:00-IPS-001  \n",
              "4  {'activityID': '2013-10-02T02:47:00-MPC-001'}  2013-10-02T02:47:00-MPC-001  "
            ]
          },
          "execution_count": 24,
          "metadata": {},
          "output_type": "execute_result"
        }
      ],
      "source": [
        "# Apply the extract_activityID_from_dict function to each row in the 'linkedEvents' column (you can use apply() and a lambda function)\n",
        "# and create a new column called 'CME_ActivityID' using loc indexer:\n",
        "\n",
        "# Remove rows with missing CME_ActivityID, since we can't assign them to CMEs:\n",
        "# Apply the extract_activityID_from_dict function to the 'linkedEvents' column\n",
        "gst_df['CME_ActivityID'] = gst_df['linkedEvents'].apply(lambda x: extract_activityID_from_dict(x))\n",
        "\n",
        "# Remove rows with missing 'CME_ActivityID'\n",
        "gst_df = gst_df.dropna(subset=['CME_ActivityID']).reset_index(drop=True)\n",
        "\n",
        "# Display the first few rows of the updated DataFrame\n",
        "gst_df.head()\n",
        "\n"
      ]
    },
    {
      "cell_type": "code",
      "execution_count": 25,
      "metadata": {
        "colab": {
          "base_uri": "https://localhost:8080/",
          "height": 484
        },
        "id": "Sk2V_WXVQZ3T",
        "outputId": "5a7483ef-2153-49f4-bb23-13fb556f85ae"
      },
      "outputs": [
        {
          "name": "stdout",
          "output_type": "stream",
          "text": [
            "<class 'pandas.core.frame.DataFrame'>\n",
            "RangeIndex: 205 entries, 0 to 204\n",
            "Data columns (total 3 columns):\n",
            " #   Column          Non-Null Count  Dtype              \n",
            "---  ------          --------------  -----              \n",
            " 0   gstID           205 non-null    object             \n",
            " 1   startTime_GST   205 non-null    datetime64[ns, UTC]\n",
            " 2   CME_ActivityID  205 non-null    object             \n",
            "dtypes: datetime64[ns, UTC](1), object(2)\n",
            "memory usage: 4.9+ KB\n",
            "None\n"
          ]
        },
        {
          "data": {
            "text/html": [
              "<div>\n",
              "<style scoped>\n",
              "    .dataframe tbody tr th:only-of-type {\n",
              "        vertical-align: middle;\n",
              "    }\n",
              "\n",
              "    .dataframe tbody tr th {\n",
              "        vertical-align: top;\n",
              "    }\n",
              "\n",
              "    .dataframe thead th {\n",
              "        text-align: right;\n",
              "    }\n",
              "</style>\n",
              "<table border=\"1\" class=\"dataframe\">\n",
              "  <thead>\n",
              "    <tr style=\"text-align: right;\">\n",
              "      <th></th>\n",
              "      <th>gstID</th>\n",
              "      <th>startTime_GST</th>\n",
              "      <th>CME_ActivityID</th>\n",
              "    </tr>\n",
              "  </thead>\n",
              "  <tbody>\n",
              "    <tr>\n",
              "      <th>0</th>\n",
              "      <td>2013-06-01T01:00:00-GST-001</td>\n",
              "      <td>2013-06-01 01:00:00+00:00</td>\n",
              "      <td>2013-05-31T15:45:00-HSS-001</td>\n",
              "    </tr>\n",
              "    <tr>\n",
              "      <th>1</th>\n",
              "      <td>2013-06-07T03:00:00-GST-001</td>\n",
              "      <td>2013-06-07 03:00:00+00:00</td>\n",
              "      <td>2013-06-02T20:24:00-CME-001</td>\n",
              "    </tr>\n",
              "    <tr>\n",
              "      <th>2</th>\n",
              "      <td>2013-10-02T03:00:00-GST-001</td>\n",
              "      <td>2013-10-02 03:00:00+00:00</td>\n",
              "      <td>2013-09-29T22:40:00-CME-001</td>\n",
              "    </tr>\n",
              "    <tr>\n",
              "      <th>3</th>\n",
              "      <td>2013-10-02T03:00:00-GST-001</td>\n",
              "      <td>2013-10-02 03:00:00+00:00</td>\n",
              "      <td>2013-10-02T01:54:00-IPS-001</td>\n",
              "    </tr>\n",
              "    <tr>\n",
              "      <th>4</th>\n",
              "      <td>2013-10-02T03:00:00-GST-001</td>\n",
              "      <td>2013-10-02 03:00:00+00:00</td>\n",
              "      <td>2013-10-02T02:47:00-MPC-001</td>\n",
              "    </tr>\n",
              "  </tbody>\n",
              "</table>\n",
              "</div>"
            ],
            "text/plain": [
              "                         gstID             startTime_GST  \\\n",
              "0  2013-06-01T01:00:00-GST-001 2013-06-01 01:00:00+00:00   \n",
              "1  2013-06-07T03:00:00-GST-001 2013-06-07 03:00:00+00:00   \n",
              "2  2013-10-02T03:00:00-GST-001 2013-10-02 03:00:00+00:00   \n",
              "3  2013-10-02T03:00:00-GST-001 2013-10-02 03:00:00+00:00   \n",
              "4  2013-10-02T03:00:00-GST-001 2013-10-02 03:00:00+00:00   \n",
              "\n",
              "                CME_ActivityID  \n",
              "0  2013-05-31T15:45:00-HSS-001  \n",
              "1  2013-06-02T20:24:00-CME-001  \n",
              "2  2013-09-29T22:40:00-CME-001  \n",
              "3  2013-10-02T01:54:00-IPS-001  \n",
              "4  2013-10-02T02:47:00-MPC-001  "
            ]
          },
          "execution_count": 25,
          "metadata": {},
          "output_type": "execute_result"
        }
      ],
      "source": [
        "# Convert the 'CME_ActivityID' column to string format\n",
        "\n",
        "# Convert the 'gstID' column to string format\n",
        "\n",
        "# Convert startTime to datetime format\n",
        "\n",
        "# Rename startTime to startTime_GST\n",
        "\n",
        "# Drop linkedEvents\n",
        "\n",
        "# Verify that all steps were executed correctly\n",
        "# Convert the 'CME_ActivityID' column to string format\n",
        "gst_df['CME_ActivityID'] = gst_df['CME_ActivityID'].astype(str)\n",
        "\n",
        "# Convert the 'gstID' column to string format\n",
        "gst_df['gstID'] = gst_df['gstID'].astype(str)\n",
        "\n",
        "# Convert startTime to datetime format\n",
        "gst_df['startTime'] = pd.to_datetime(gst_df['startTime'])\n",
        "\n",
        "# Rename startTime to startTime_GST\n",
        "gst_df.rename(columns={'startTime': 'startTime_GST'}, inplace=True)\n",
        "\n",
        "# Drop linkedEvents column\n",
        "gst_df.drop(columns=['linkedEvents'], inplace=True)\n",
        "\n",
        "# Verify that all steps were executed correctly\n",
        "print(gst_df.info())\n",
        "gst_df.head()\n",
        "\n"
      ]
    },
    {
      "cell_type": "code",
      "execution_count": 26,
      "metadata": {
        "colab": {
          "base_uri": "https://localhost:8080/",
          "height": 484
        },
        "id": "Zvwx0w2AQZ3U",
        "outputId": "a0d307a2-ba82-4a28-fb7c-0625723a6c24"
      },
      "outputs": [
        {
          "name": "stdout",
          "output_type": "stream",
          "text": [
            "<class 'pandas.core.frame.DataFrame'>\n",
            "Index: 61 entries, 1 to 203\n",
            "Data columns (total 3 columns):\n",
            " #   Column          Non-Null Count  Dtype              \n",
            "---  ------          --------------  -----              \n",
            " 0   gstID           61 non-null     object             \n",
            " 1   startTime_GST   61 non-null     datetime64[ns, UTC]\n",
            " 2   CME_ActivityID  61 non-null     object             \n",
            "dtypes: datetime64[ns, UTC](1), object(2)\n",
            "memory usage: 1.9+ KB\n",
            "None\n"
          ]
        },
        {
          "data": {
            "text/html": [
              "<div>\n",
              "<style scoped>\n",
              "    .dataframe tbody tr th:only-of-type {\n",
              "        vertical-align: middle;\n",
              "    }\n",
              "\n",
              "    .dataframe tbody tr th {\n",
              "        vertical-align: top;\n",
              "    }\n",
              "\n",
              "    .dataframe thead th {\n",
              "        text-align: right;\n",
              "    }\n",
              "</style>\n",
              "<table border=\"1\" class=\"dataframe\">\n",
              "  <thead>\n",
              "    <tr style=\"text-align: right;\">\n",
              "      <th></th>\n",
              "      <th>gstID</th>\n",
              "      <th>startTime_GST</th>\n",
              "      <th>CME_ActivityID</th>\n",
              "    </tr>\n",
              "  </thead>\n",
              "  <tbody>\n",
              "    <tr>\n",
              "      <th>1</th>\n",
              "      <td>2013-06-07T03:00:00-GST-001</td>\n",
              "      <td>2013-06-07 03:00:00+00:00</td>\n",
              "      <td>2013-06-02T20:24:00-CME-001</td>\n",
              "    </tr>\n",
              "    <tr>\n",
              "      <th>2</th>\n",
              "      <td>2013-10-02T03:00:00-GST-001</td>\n",
              "      <td>2013-10-02 03:00:00+00:00</td>\n",
              "      <td>2013-09-29T22:40:00-CME-001</td>\n",
              "    </tr>\n",
              "    <tr>\n",
              "      <th>5</th>\n",
              "      <td>2013-12-08T00:00:00-GST-001</td>\n",
              "      <td>2013-12-08 00:00:00+00:00</td>\n",
              "      <td>2013-12-04T23:12:00-CME-001</td>\n",
              "    </tr>\n",
              "    <tr>\n",
              "      <th>7</th>\n",
              "      <td>2014-02-19T03:00:00-GST-001</td>\n",
              "      <td>2014-02-19 03:00:00+00:00</td>\n",
              "      <td>2014-02-16T14:15:00-CME-001</td>\n",
              "    </tr>\n",
              "    <tr>\n",
              "      <th>9</th>\n",
              "      <td>2014-02-20T03:00:00-GST-001</td>\n",
              "      <td>2014-02-20 03:00:00+00:00</td>\n",
              "      <td>2014-02-18T01:25:00-CME-001</td>\n",
              "    </tr>\n",
              "  </tbody>\n",
              "</table>\n",
              "</div>"
            ],
            "text/plain": [
              "                         gstID             startTime_GST  \\\n",
              "1  2013-06-07T03:00:00-GST-001 2013-06-07 03:00:00+00:00   \n",
              "2  2013-10-02T03:00:00-GST-001 2013-10-02 03:00:00+00:00   \n",
              "5  2013-12-08T00:00:00-GST-001 2013-12-08 00:00:00+00:00   \n",
              "7  2014-02-19T03:00:00-GST-001 2014-02-19 03:00:00+00:00   \n",
              "9  2014-02-20T03:00:00-GST-001 2014-02-20 03:00:00+00:00   \n",
              "\n",
              "                CME_ActivityID  \n",
              "1  2013-06-02T20:24:00-CME-001  \n",
              "2  2013-09-29T22:40:00-CME-001  \n",
              "5  2013-12-04T23:12:00-CME-001  \n",
              "7  2014-02-16T14:15:00-CME-001  \n",
              "9  2014-02-18T01:25:00-CME-001  "
            ]
          },
          "execution_count": 26,
          "metadata": {},
          "output_type": "execute_result"
        }
      ],
      "source": [
        "# We are only interested in GSTs related to CMEs so keep only rows where the CME_ActivityID column contains 'CME'\n",
        "# use the method 'contains()' from the str library.\n",
        "\n",
        "# Keep only rows where the CME_ActivityID column contains 'CME'\n",
        "filtered_gst_df = gst_df[gst_df['CME_ActivityID'].str.contains('CME', na=False)]\n",
        "\n",
        "# Verify the filtering\n",
        "print(filtered_gst_df.info())\n",
        "filtered_gst_df.head()\n"
      ]
    },
    {
      "cell_type": "markdown",
      "metadata": {
        "id": "rktIwQ1RQZ3V"
      },
      "source": [
        "### Merge both datatsets"
      ]
    },
    {
      "cell_type": "code",
      "execution_count": 27,
      "metadata": {
        "colab": {
          "base_uri": "https://localhost:8080/",
          "height": 594
        },
        "id": "IM9Q5K2iOLIg",
        "outputId": "ffb804f7-cf83-4c36-9b70-6ad66caf06b3"
      },
      "outputs": [
        {
          "name": "stdout",
          "output_type": "stream",
          "text": [
            "Empty DataFrame\n",
            "Columns: [cmeID, startTime_CME, linkedEvent, GST_ActivityID]\n",
            "Index: []\n",
            "<class 'pandas.core.frame.DataFrame'>\n",
            "Index: 0 entries\n",
            "Data columns (total 4 columns):\n",
            " #   Column          Non-Null Count  Dtype              \n",
            "---  ------          --------------  -----              \n",
            " 0   cmeID           0 non-null      object             \n",
            " 1   startTime_CME   0 non-null      datetime64[ns, UTC]\n",
            " 2   linkedEvent     0 non-null      object             \n",
            " 3   GST_ActivityID  0 non-null      object             \n",
            "dtypes: datetime64[ns, UTC](1), object(3)\n",
            "memory usage: 0.0+ bytes\n",
            "None\n",
            "<class 'pandas.core.frame.DataFrame'>\n",
            "RangeIndex: 0 entries\n",
            "Data columns (total 7 columns):\n",
            " #   Column          Non-Null Count  Dtype              \n",
            "---  ------          --------------  -----              \n",
            " 0   gstID           0 non-null      object             \n",
            " 1   startTime_GST   0 non-null      datetime64[ns, UTC]\n",
            " 2   CME_ActivityID  0 non-null      object             \n",
            " 3   cmeID           0 non-null      object             \n",
            " 4   startTime_CME   0 non-null      datetime64[ns, UTC]\n",
            " 5   linkedEvent     0 non-null      object             \n",
            " 6   GST_ActivityID  0 non-null      object             \n",
            "dtypes: datetime64[ns, UTC](2), object(5)\n",
            "memory usage: 132.0+ bytes\n",
            "None\n"
          ]
        },
        {
          "data": {
            "text/html": [
              "<div>\n",
              "<style scoped>\n",
              "    .dataframe tbody tr th:only-of-type {\n",
              "        vertical-align: middle;\n",
              "    }\n",
              "\n",
              "    .dataframe tbody tr th {\n",
              "        vertical-align: top;\n",
              "    }\n",
              "\n",
              "    .dataframe thead th {\n",
              "        text-align: right;\n",
              "    }\n",
              "</style>\n",
              "<table border=\"1\" class=\"dataframe\">\n",
              "  <thead>\n",
              "    <tr style=\"text-align: right;\">\n",
              "      <th></th>\n",
              "      <th>gstID</th>\n",
              "      <th>startTime_GST</th>\n",
              "      <th>CME_ActivityID</th>\n",
              "      <th>cmeID</th>\n",
              "      <th>startTime_CME</th>\n",
              "      <th>linkedEvent</th>\n",
              "      <th>GST_ActivityID</th>\n",
              "    </tr>\n",
              "  </thead>\n",
              "  <tbody>\n",
              "  </tbody>\n",
              "</table>\n",
              "</div>"
            ],
            "text/plain": [
              "Empty DataFrame\n",
              "Columns: [gstID, startTime_GST, CME_ActivityID, cmeID, startTime_CME, linkedEvent, GST_ActivityID]\n",
              "Index: []"
            ]
          },
          "execution_count": 27,
          "metadata": {},
          "output_type": "execute_result"
        }
      ],
      "source": [
        "# We are only interested in CMEs related to GSTs so keep only rows where the GST_ActivityID column contains 'GST'\n",
        "# use the method 'contains()' from the str library.\n",
        "# Filter the DataFrame to keep only rows where the 'GST_ActivityID' column contains 'GST'\n",
        "filtered_cme_df = expanded_cme_df[expanded_cme_df['GST_ActivityID'].str.contains('GST', na=False)]\n",
        "\n",
        "# Display the first few rows of the filtered DataFrame\n",
        "print(filtered_cme_df.head())\n",
        "\n",
        "# Verify the number of rows and columns in the filtered DataFrame\n",
        "print(filtered_cme_df.info())\n",
        "\n",
        "# Now merge both datasets using 'gstID' and 'CME_ActivityID' for gst and 'GST_ActivityID' and 'cmeID' for cme. Use the 'left_on' and 'right_on' specifiers.\n",
        "# Merge both datasets using the specified columns\n",
        "merged_df = pd.merge(\n",
        "    filtered_gst_df,\n",
        "    filtered_cme_df,\n",
        "    left_on=['gstID', 'CME_ActivityID'],\n",
        "    right_on=['GST_ActivityID', 'cmeID'],\n",
        "    how='inner'\n",
        ")\n",
        "\n",
        "# Verify the merged DataFrame\n",
        "print(merged_df.info())\n",
        "merged_df.head()"
      ]
    },
    {
      "cell_type": "code",
      "execution_count": 28,
      "metadata": {
        "colab": {
          "base_uri": "https://localhost:8080/",
          "height": 333
        },
        "id": "-XYCRZjOQZ3W",
        "outputId": "e20a4529-814b-4ea6-91de-15145594fbea"
      },
      "outputs": [
        {
          "name": "stdout",
          "output_type": "stream",
          "text": [
            "<class 'pandas.core.frame.DataFrame'>\n",
            "RangeIndex: 0 entries\n",
            "Data columns (total 7 columns):\n",
            " #   Column          Non-Null Count  Dtype              \n",
            "---  ------          --------------  -----              \n",
            " 0   gstID           0 non-null      object             \n",
            " 1   startTime_GST   0 non-null      datetime64[ns, UTC]\n",
            " 2   CME_ActivityID  0 non-null      object             \n",
            " 3   cmeID           0 non-null      object             \n",
            " 4   startTime_CME   0 non-null      datetime64[ns, UTC]\n",
            " 5   linkedEvent     0 non-null      object             \n",
            " 6   GST_ActivityID  0 non-null      object             \n",
            "dtypes: datetime64[ns, UTC](2), object(5)\n",
            "memory usage: 132.0+ bytes\n",
            "None\n"
          ]
        },
        {
          "data": {
            "text/html": [
              "<div>\n",
              "<style scoped>\n",
              "    .dataframe tbody tr th:only-of-type {\n",
              "        vertical-align: middle;\n",
              "    }\n",
              "\n",
              "    .dataframe tbody tr th {\n",
              "        vertical-align: top;\n",
              "    }\n",
              "\n",
              "    .dataframe thead th {\n",
              "        text-align: right;\n",
              "    }\n",
              "</style>\n",
              "<table border=\"1\" class=\"dataframe\">\n",
              "  <thead>\n",
              "    <tr style=\"text-align: right;\">\n",
              "      <th></th>\n",
              "      <th>gstID</th>\n",
              "      <th>startTime_GST</th>\n",
              "      <th>CME_ActivityID</th>\n",
              "      <th>cmeID</th>\n",
              "      <th>startTime_CME</th>\n",
              "      <th>linkedEvent</th>\n",
              "      <th>GST_ActivityID</th>\n",
              "    </tr>\n",
              "  </thead>\n",
              "  <tbody>\n",
              "  </tbody>\n",
              "</table>\n",
              "</div>"
            ],
            "text/plain": [
              "Empty DataFrame\n",
              "Columns: [gstID, startTime_GST, CME_ActivityID, cmeID, startTime_CME, linkedEvent, GST_ActivityID]\n",
              "Index: []"
            ]
          },
          "execution_count": 28,
          "metadata": {},
          "output_type": "execute_result"
        }
      ],
      "source": [
        "# Now merge both datasets using 'gstID' and 'CME_ActivityID' for gst and 'GST_ActivityID' and 'cmeID' for cme. Use the 'left_on' and 'right_on' specifiers.\n",
        "# Merge both datasets using the specified columns\n",
        "merged_df = pd.merge(\n",
        "    filtered_gst_df,\n",
        "    filtered_cme_df,\n",
        "    left_on=['gstID', 'CME_ActivityID'],\n",
        "    right_on=['GST_ActivityID', 'cmeID'],\n",
        "    how='inner'\n",
        ")\n",
        "\n",
        "# Verify the merged DataFrame\n",
        "print(merged_df.info())\n",
        "merged_df.head()\n"
      ]
    },
    {
      "cell_type": "code",
      "execution_count": 29,
      "metadata": {
        "colab": {
          "base_uri": "https://localhost:8080/"
        },
        "id": "-89ntn7GQZ3W",
        "outputId": "649cfcd6-19ae-4728-ef16-01da1a954f53"
      },
      "outputs": [
        {
          "name": "stdout",
          "output_type": "stream",
          "text": [
            "Number of rows in CME DataFrame: 0\n",
            "Number of rows in GST DataFrame: 61\n",
            "Number of rows in merged DataFrame: 0\n"
          ]
        }
      ],
      "source": [
        "# Verify that the new DataFrame has the same number of rows as cme and gst\n",
        "# Verify the row counts\n",
        "print(f\"Number of rows in CME DataFrame: {filtered_cme_df.shape[0]}\")\n",
        "print(f\"Number of rows in GST DataFrame: {filtered_gst_df.shape[0]}\")\n",
        "print(f\"Number of rows in merged DataFrame: {merged_df.shape[0]}\")\n"
      ]
    },
    {
      "cell_type": "markdown",
      "metadata": {
        "id": "1YRTEpXMQZ3X"
      },
      "source": [
        "### Computing the time it takes for a CME to cause a GST"
      ]
    },
    {
      "cell_type": "code",
      "execution_count": 30,
      "metadata": {
        "colab": {
          "base_uri": "https://localhost:8080/"
        },
        "id": "QwWh9oHoQZ3Y",
        "outputId": "55c40bbe-5712-4e68-fe97-cdedc040fa3e"
      },
      "outputs": [
        {
          "name": "stdout",
          "output_type": "stream",
          "text": [
            "Empty DataFrame\n",
            "Columns: [startTime_GST, startTime_CME, timeDiff]\n",
            "Index: []\n"
          ]
        }
      ],
      "source": [
        "# Compute the time diff between startTime_GST and startTime_CME by creating a new column called `timeDiff`.\n",
        "# Compute the time difference between startTime_GST and startTime_CME\n",
        "merged_df['timeDiff'] = merged_df['startTime_GST'] - merged_df['startTime_CME']\n",
        "\n",
        "# Display the first few rows to verify\n",
        "print(merged_df[['startTime_GST', 'startTime_CME', 'timeDiff']].head())\n",
        "\n"
      ]
    },
    {
      "cell_type": "code",
      "execution_count": 31,
      "metadata": {
        "colab": {
          "base_uri": "https://localhost:8080/"
        },
        "id": "qbQoua5kQZ3Z",
        "outputId": "601226c0-cbc8-4b13-ce92-a2bcd2697e07"
      },
      "outputs": [
        {
          "name": "stdout",
          "output_type": "stream",
          "text": [
            "Time Difference Statistics:\n",
            "count      0\n",
            "mean     NaT\n",
            "std      NaT\n",
            "min      NaT\n",
            "25%      NaT\n",
            "50%      NaT\n",
            "75%      NaT\n",
            "max      NaT\n",
            "Name: timeDiff, dtype: object\n",
            "\n",
            "Mean time difference: NaT\n",
            "Median time difference: NaT\n"
          ]
        }
      ],
      "source": [
        "# Use describe() to compute the mean and median time\n",
        "# that it takes for a CME to cause a GST.\n",
        "# Compute and display the mean and median time it takes for a CME to cause a GST\n",
        "time_diff_stats = merged_df['timeDiff'].describe()\n",
        "\n",
        "mean_time = merged_df['timeDiff'].mean()\n",
        "median_time = merged_df['timeDiff'].median()\n",
        "\n",
        "print(\"Time Difference Statistics:\")\n",
        "print(time_diff_stats)\n",
        "print(f\"\\nMean time difference: {mean_time}\")\n",
        "print(f\"Median time difference: {median_time}\")\n"
      ]
    },
    {
      "cell_type": "markdown",
      "metadata": {
        "id": "TmPYDf72QZ3a"
      },
      "source": [
        "### Exporting data in csv format"
      ]
    },
    {
      "cell_type": "code",
      "execution_count": 32,
      "metadata": {
        "colab": {
          "base_uri": "https://localhost:8080/"
        },
        "id": "tbpvFaFtQZ3b",
        "outputId": "af5b7db8-cb8c-496b-aba7-2a72f72a97d0"
      },
      "outputs": [
        {
          "name": "stdout",
          "output_type": "stream",
          "text": [
            "Data has been successfully exported to cme_gst_processed_data.csv\n"
          ]
        }
      ],
      "source": [
        "# Export data to CSV without the index\n",
        "# Export the final DataFrame to a CSV file\n",
        "# Specify the file name and set index=False to exclude the index column\n",
        "final_csv_file_name = \"cme_gst_processed_data.csv\"\n",
        "merged_df.to_csv(final_csv_file_name, index=False)\n",
        "\n",
        "print(f\"Data has been successfully exported to {final_csv_file_name}\")\n",
        "\n"
      ]
    }
  ],
  "metadata": {
    "colab": {
      "include_colab_link": true,
      "provenance": []
    },
    "kernelspec": {
      "display_name": "base",
      "language": "python",
      "name": "python3"
    },
    "language_info": {
      "codemirror_mode": {
        "name": "ipython",
        "version": 3
      },
      "file_extension": ".py",
      "mimetype": "text/x-python",
      "name": "python",
      "nbconvert_exporter": "python",
      "pygments_lexer": "ipython3",
      "version": "3.12.7"
    },
    "varInspector": {
      "cols": {
        "lenName": 16,
        "lenType": 16,
        "lenVar": 40
      },
      "kernels_config": {
        "python": {
          "delete_cmd_postfix": "",
          "delete_cmd_prefix": "del ",
          "library": "var_list.py",
          "varRefreshCmd": "print(var_dic_list())"
        },
        "r": {
          "delete_cmd_postfix": ") ",
          "delete_cmd_prefix": "rm(",
          "library": "var_list.r",
          "varRefreshCmd": "cat(var_dic_list()) "
        }
      },
      "types_to_exclude": [
        "module",
        "function",
        "builtin_function_or_method",
        "instance",
        "_Feature"
      ],
      "window_display": false
    }
  },
  "nbformat": 4,
  "nbformat_minor": 0
}
